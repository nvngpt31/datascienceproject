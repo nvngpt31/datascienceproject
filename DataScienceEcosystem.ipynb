{
 "cells": [
  {
   "cell_type": "markdown",
   "id": "788dc5",
   "metadata": {
    "collapsed": false
   },
   "source": [
    "# Data Science Tools and Ecosystem\n",
    "\n"
   ]
  },
  {
   "cell_type": "markdown",
   "id": "c19b96",
   "metadata": {
    "collapsed": false
   },
   "source": [
    "# In this notebook, Data Science Tools and Ecosystem are summarized."
   ]
  },
  {
   "cell_type": "markdown",
   "id": "1a4542",
   "metadata": {
    "collapsed": false
   },
   "source": [
    "# Some of the popular languages that Data Scientists use are:\n",
    "1. Python,\n",
    "2. R\n",
    "3. SQL,\n",
    "4. Java,\n",
    "5. Julia,\n",
    "6. Scala,\n",
    "7. C/C++,\n",
    "8. JavaScript,\n",
    "9. Swift,\n",
    "10. Go,\n",
    "11. MATLAB,\n",
    "12. SAS\n"
   ]
  },
  {
   "cell_type": "markdown",
   "id": "4e2c71",
   "metadata": {
    "collapsed": false
   },
   "source": [
    "# Some of the commonly used libraries used by Data Scientists include:\n",
    "\n",
    "1. NumPy,\n",
    "2. Pandas,\n",
    "3. Matplotlib,\n",
    "4. Seaborn,\n",
    "5. Scikit-learn.\n"
   ]
  },
  {
   "cell_type": "markdown",
   "id": "ae8473",
   "metadata": {
    "collapsed": false
   },
   "source": [
    "#  Data Science tools:\n",
    "1. Apache Spark\n",
    "2. D3\n",
    "3. IBM SPSS\n",
    "4. Julia\n",
    "5. Jupyter Notebook/JupyterLab\n",
    "6. Keras\n",
    "7. Matlab\n",
    "8. Matplotlib\n",
    "9. NumPy\n",
    "10. Pandas\n",
    "11. Python\n",
    "12. PyTorch\n",
    "13. R\n",
    "14. SAS\n",
    "15. Scikit-learn\n",
    "16. SciPy\n",
    "17. TensorFlow\n",
    "18. Weka\n"
   ]
  },
  {
   "cell_type": "markdown",
   "id": "20dfd8",
   "metadata": {
    "collapsed": false
   },
   "source": [
    "### Below are a few examples of evaluating arithmetic expressions in Python:\n",
    "x = 5 + 3\n",
    "y = 10 - 4\n",
    "z = 2 * 7\n",
    "a = 15 / 3\n",
    "b = 15 // 4\n",
    "c = 17 % 5\n",
    "d = 2 ** 3\n"
   ]
  },
  {
   "cell_type": "code",
   "execution_count": 1,
   "id": "5d5b64",
   "metadata": {
    "collapsed": false
   },
   "outputs": [
    {
     "data": {
      "text/plain": [
       "17"
      ]
     },
     "execution_count": 1,
     "metadata": {
     },
     "output_type": "execute_result"
    }
   ],
   "source": [
    "# This a simple arithmetic expression to mutiply then add integers.\n",
    "(3*4)+5"
   ]
  },
  {
   "cell_type": "code",
   "execution_count": 6,
   "id": "1c5309",
   "metadata": {
    "collapsed": false
   },
   "outputs": [
    {
     "name": "stdout",
     "output_type": "stream",
     "text": [
      "3\n"
     ]
    }
   ],
   "source": [
    "# This will convert 200 minutes to hours by diving by 60\n",
    "hours = 200 // 60\n",
    "print (hours)"
   ]
  },
  {
   "cell_type": "markdown",
   "id": "f1f705",
   "metadata": {
    "collapsed": false
   },
   "source": [
    "# some of the key takeaways from the course\n",
    "Objectives: A key takeaway from a Data Science course is understanding that it's an interdisciplinary field focused on extracting valuable insights and knowledge from data to solve complex problems. This involves using various methods like statistical analysis, machine learning, and data visualization to uncover patterns, make predictions, and ultimately, support informed decision-making. \n",
    "\n",
    "Here's a more detailed look at some key takeaways:\n",
    "1. Data Science is Multidisciplinary:Data science draws from computer science, statistics, mathematics, and domain expertise to analyze data effectively. Broader than just programming: While coding is crucial, data science also requires understanding statistical methods, machine learning techniques, and domain-specific knowledge. \n",
    "\n",
    "2. The Data Science Process:Data Collection & Preparation: Gathering, cleaning, and preparing raw data from various sources. Exploratory Data Analysis (EDA): Uncovering patterns and relationships in the data through visualization and descriptive statistics. Machine Learning Modeling: Applying algorithms to build predictive models and make inferences from the data. Data Visualization: Communicating insights effectively through charts, graphs, and dashboards. Decision Making: Using the insights to inform strategies, create solutions, or predict outcomes. \n",
    "\n",
    "3. Key Skills: Programming: Proficiency in languages like Python and R, which are widely used in data science. Statistical Analysis: Understanding and applying statistical concepts to analyze data. Machine Learning: Knowledge of different algorithms and their applications. Data Visualization: Ability to create clear and compelling visualizations to communicate insights. Domain Knowledge: Understanding the specific industry or area where data science is being applied. \n"
   ]
  },
  {
   "cell_type": "markdown",
   "id": "4af884",
   "metadata": {
    "collapsed": false
   },
   "source": [
    "## Author\n",
    "Naveen Kumar Gupta"
   ]
  }
 ],
 "metadata": {
  "kernelspec": {
   "argv": [
    "/usr/bin/python3",
    "-m",
    "ipykernel",
    "--HistoryManager.enabled=False",
    "--matplotlib=inline",
    "-c",
    "%config InlineBackend.figure_formats = set(['retina'])\nimport matplotlib; matplotlib.rcParams['figure.figsize'] = (12, 7)",
    "-f",
    "{connection_file}"
   ],
   "display_name": "Python 3 (system-wide)",
   "env": {
   },
   "language": "python",
   "metadata": {
    "cocalc": {
     "description": "Python 3 programming language",
     "priority": 100,
     "url": "https://www.python.org/"
    }
   },
   "name": "python3",
   "resource_dir": "/ext/jupyter/kernels/python3"
  },
  "language_info": {
   "codemirror_mode": {
    "name": "ipython",
    "version": 3
   },
   "file_extension": ".py",
   "mimetype": "text/x-python",
   "name": "python",
   "nbconvert_exporter": "python",
   "pygments_lexer": "ipython3",
   "version": "3.10.12"
  }
 },
 "nbformat": 4,
 "nbformat_minor": 4
}